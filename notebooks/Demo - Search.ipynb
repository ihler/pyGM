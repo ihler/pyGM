{
 "cells": [
  {
   "cell_type": "code",
   "execution_count": 1,
   "metadata": {
    "collapsed": true
   },
   "outputs": [],
   "source": [
    "import pyGMs as gm\n",
    "import numpy as np\n",
    "import matplotlib.pyplot as plt   # use matplotlib for plotting with inline plots\n",
    "%matplotlib inline                "
   ]
  },
  {
   "cell_type": "markdown",
   "metadata": {},
   "source": [
    "Let's define the Burglar & Earthquake model from lecture:"
   ]
  },
  {
   "cell_type": "code",
   "execution_count": 2,
   "metadata": {
    "collapsed": true
   },
   "outputs": [],
   "source": [
    "J,M,A,E,B = tuple(gm.Var(i,2) for i in range(0,5))  # all binary variables\n",
    "X = [J,M,A,E,B]   # we'll often refer to variables as Xi or X[i]\n",
    "\n",
    "# sometimes it's useful to have a reverse look-up from ID to \"name string\" (e.g. when drawing the graph)\n",
    "IDtoName = dict( (eval(n).label,n) for n in ['J','M','A','E','B'])\n",
    "\n",
    "pE = gm.Factor([E], [.998, .002]) # probability of earthquake (false,true)\n",
    "\n",
    "pB = gm.Factor([B], [.999, .001]) # probability of burglary\n",
    "\n",
    "pAgEB = gm.Factor([A,E,B], 0.0)   \n",
    "# Set A,E,B                       # Note: it's important to refer to tuples like\n",
    "pAgEB[:,0,0] = [.999, .001]       #  (A,E,B)=(0,0,0) in the order of the variables' ID numbers\n",
    "pAgEB[:,0,1] = [.710, .290]       #  So, since A=X[2], E=X[3], etc., A,E,B is the correct order\n",
    "pAgEB[:,1,0] = [.060, .940]\n",
    "pAgEB[:,1,1] = [.050, .950]       # \":\" refers to an entire row of the table\n",
    "\n",
    "pJgA = gm.Factor([J,A], 0.0)      # Probability that John calls given the alarm's status\n",
    "pJgA[:,0]    = [.95, .05]\n",
    "pJgA[:,1]    = [.10, .90]\n",
    "\n",
    "pMgA = gm.Factor([M,A], 0.0)      # Probability that Mary calls given the alarm's status\n",
    "pMgA[:,0]    = [.99, .01]\n",
    "pMgA[:,1]    = [.30, .70]\n",
    "\n",
    "#factors = [pE, pB, pAgEB, pJgA, pMgA]  # collect all the factors that define the model\n",
    "factors = [pJgA, pMgA, pAgEB, pE, pB]  # collect all the factors that define the model\n",
    "\n",
    "fg = gm.GraphModel(factors)"
   ]
  },
  {
   "cell_type": "markdown",
   "metadata": {},
   "source": [
    "## A-Star search for the MAP configuration\n",
    "Let's find the most likely configuration using a simple fixed order a-star search:"
   ]
  },
  {
   "cell_type": "code",
   "execution_count": 3,
   "metadata": {
    "collapsed": true
   },
   "outputs": [],
   "source": [
    "import heapq\n",
    "class PriorityQueue:\n",
    "    '''Priority queue wrapper; returns highest priority element.'''\n",
    "    def __init__(self): self.elements = []\n",
    "    def __len__(self):  return len(self.elements)\n",
    "    def empty(self):    return len(self.elements) == 0\n",
    "    def push(self, item, pri): heapq.heappush(self.elements, (-pri, item))\n",
    "    def pop(self):      return heapq.heappop(self.elements)[1]\n",
    "\n",
    "def astar(model, order):\n",
    "    '''Basic A-star search for graphical model 'model' using search order 'order'.'''\n",
    "    def heur(model,config):\n",
    "        return sum([np.log(f.condition(config).max()) for f in model.factors]);\n",
    "    frontier = PriorityQueue()\n",
    "    frontier.push({}, heur(model,{}))\n",
    "    while frontier:\n",
    "        current = frontier.pop()\n",
    "        if len(current) == len(model.X): break   # if a full configuration, done:\n",
    "\n",
    "        Xi = order[len(current)]         # get the next variable to assign (fixed order)\n",
    "        for xi in range(Xi.states):      # generate each child node (assignment Xi=xi)\n",
    "            next = current.copy();\n",
    "            next[Xi] = xi;               # and add it to the frontier / queue\n",
    "            frontier.push( next, heur(model,next) )\n",
    "\n",
    "    return model.logValue(current), current      # found a leaf: return value & config"
   ]
  },
  {
   "cell_type": "code",
   "execution_count": 5,
   "metadata": {
    "collapsed": false
   },
   "outputs": [
    {
     "name": "stdout",
     "output_type": "stream",
     "text": [
      "(-0.06534663357889217, {Var (0,2): 0, Var (1,2): 0, Var (2,2): 0, Var (3,2): 0, Var (4,2): 0})\n"
     ]
    }
   ],
   "source": [
    "print( astar(fg, fg.X) )"
   ]
  },
  {
   "cell_type": "markdown",
   "metadata": {},
   "source": [
    "We can verify that this is indeed the value of the most probable configuration via variable elimination:"
   ]
  },
  {
   "cell_type": "code",
   "execution_count": 6,
   "metadata": {
    "collapsed": false
   },
   "outputs": [
    {
     "name": "stdout",
     "output_type": "stream",
     "text": [
      "-0.06534663357889212\n"
     ]
    }
   ],
   "source": [
    "fg_copy = fg.copy()              # make a deep copy (VE changes the graph & factors)\n",
    "fg_copy.eliminate(fg.X, 'max')   # eliminate via \"max\" over order 0...n-1\n",
    "print(fg_copy.logValue([]))      # no variables left: only one (scalar) factor"
   ]
  }
 ],
 "metadata": {
  "kernelspec": {
   "display_name": "Python 3",
   "language": "python",
   "name": "python3"
  },
  "language_info": {
   "codemirror_mode": {
    "name": "ipython",
    "version": 3
   },
   "file_extension": ".py",
   "mimetype": "text/x-python",
   "name": "python",
   "nbconvert_exporter": "python",
   "pygments_lexer": "ipython3",
   "version": "3.5.2"
  }
 },
 "nbformat": 4,
 "nbformat_minor": 0
}
